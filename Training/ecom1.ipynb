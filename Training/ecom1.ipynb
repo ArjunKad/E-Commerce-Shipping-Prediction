{
 "cells": [
  {
   "cell_type": "code",
   "execution_count": 1,
   "metadata": {},
   "outputs": [],
   "source": [
    "import pandas as pd\n",
    "from sklearn.preprocessing import scale\n",
    "from sklearn.neighbors import KNeighborsRegressor\n",
    "import pickle\n",
    "\n",
    "# Load dataset\n",
    "ecomm = pd.read_csv(\"Train.csv\")\n",
    "\n",
    "# Rename columns\n",
    "cols=[]\n",
    "for i in ecomm.columns[1:-1]:\n",
    "    i = i.lower()\n",
    "    cols.append(i)\n",
    "cols = ['ID'] +  cols\n",
    "cols.append('arrival')\n",
    "ecomm.columns = cols\n",
    "\n",
    "# Data preprocessing\n",
    "ecomm['gender'] = ecomm.gender.map({'F':0, 'M':1})\n",
    "ecomm['customer_rating'] = ecomm['customer_rating'].map({5:0, 4:0, 3:0, 2:0, 1:1})\n",
    "dummy = pd.get_dummies(ecomm[['warehouse_block', 'mode_of_shipment', 'product_importance']])\n",
    "ecomm1 = pd.DataFrame(scale(ecomm[['cost_of_the_product', 'weight_in_gms', 'discount_offered']]),\n",
    "                      columns=['cost_of_the_product', 'weight_in_gms', 'discount_offered'])\n",
    "ecomm_final = pd.concat([ecomm1, dummy, ecomm[['customer_care_calls', 'prior_purchases', 'gender', 'arrival', 'customer_rating']]], axis=1)\n",
    "\n",
    "# Split data into output and input\n",
    "X = ecomm_final.drop(['arrival', 'customer_rating'], axis=1)  # inputs\n",
    "Y = ecomm_final['arrival']  # output (percentage of timely arrival)\n",
    "\n",
    "# Model building (using KNeighborsRegressor)\n",
    "KNN_model = KNeighborsRegressor(n_neighbors=11, weights='distance', metric='euclidean')\n",
    "KNN_model.fit(X, Y)\n",
    "\n",
    "# Save the model\n",
    "filename = 'finalized_knn_regression.pkl'\n",
    "pickle.dump(KNN_model, open(filename, 'wb'))\n"
   ]
  },
  {
   "cell_type": "code",
   "execution_count": 2,
   "metadata": {},
   "outputs": [
    {
     "name": "stdout",
     "output_type": "stream",
     "text": [
      "Mean Absolute Error: 5.081284837900156e-08\n"
     ]
    }
   ],
   "source": [
    "from sklearn.metrics import mean_absolute_error\n",
    "\n",
    "# Assuming y_true are the actual values and y_pred are the predicted values\n",
    "y_true = Y  # Actual values of 'arrival'\n",
    "y_pred = KNN_model.predict(X)  # Predicted values of 'arrival'\n",
    "\n",
    "mae = mean_absolute_error(y_true, y_pred)\n",
    "print(f'Mean Absolute Error: {mae}')\n"
   ]
  },
  {
   "cell_type": "code",
   "execution_count": 3,
   "metadata": {},
   "outputs": [
    {
     "name": "stdout",
     "output_type": "stream",
     "text": [
      "Mean Squared Error: 5.572986799055898e-14\n"
     ]
    }
   ],
   "source": [
    "from sklearn.metrics import mean_squared_error\n",
    "\n",
    "mse = mean_squared_error(y_true, y_pred)\n",
    "print(f'Mean Squared Error: {mse}')\n"
   ]
  },
  {
   "cell_type": "code",
   "execution_count": 4,
   "metadata": {},
   "outputs": [
    {
     "name": "stdout",
     "output_type": "stream",
     "text": [
      "R^2 Score: 0.9999999999997684\n"
     ]
    }
   ],
   "source": [
    "from sklearn.metrics import r2_score\n",
    "\n",
    "r2 = r2_score(y_true, y_pred)\n",
    "print(f'R^2 Score: {r2}')\n"
   ]
  },
  {
   "cell_type": "code",
   "execution_count": 5,
   "metadata": {},
   "outputs": [
    {
     "name": "stdout",
     "output_type": "stream",
     "text": [
      "Adjusted R^2 Score: 0.9999999999997681\n"
     ]
    }
   ],
   "source": [
    "# Assuming X.shape[1] is the number of predictors\n",
    "adjusted_r2 = 1 - (1 - r2) * (len(y_true) - 1) / (len(y_true) - X.shape[1] - 1)\n",
    "print(f'Adjusted R^2 Score: {adjusted_r2}')\n"
   ]
  },
  {
   "cell_type": "code",
   "execution_count": 6,
   "metadata": {},
   "outputs": [
    {
     "name": "stdout",
     "output_type": "stream",
     "text": [
      "Test Set Metrics:\n",
      "Mean Absolute Error: 0.3779565561679475\n",
      "Mean Squared Error: 0.20759142030522146\n",
      "R^2 Score: 0.13975686613388827\n",
      "Adjusted R^2 Score: 0.13305469689661786\n"
     ]
    }
   ],
   "source": [
    "from sklearn.model_selection import train_test_split\n",
    "\n",
    "# Split data into training and testing sets\n",
    "X_train, X_test, y_train, y_test = train_test_split(X, Y, test_size=0.2, random_state=42)\n",
    "\n",
    "# Train your model on the training data\n",
    "KNN_model.fit(X_train, y_train)\n",
    "\n",
    "# Make predictions on the test data\n",
    "y_pred_test = KNN_model.predict(X_test)\n",
    "\n",
    "# Calculate metrics on the test set\n",
    "mae_test = mean_absolute_error(y_test, y_pred_test)\n",
    "mse_test = mean_squared_error(y_test, y_pred_test)\n",
    "r2_test = r2_score(y_test, y_pred_test)\n",
    "adjusted_r2_test = 1 - (1 - r2_test) * (len(y_test) - 1) / (len(y_test) - X_test.shape[1] - 1)\n",
    "\n",
    "print(f'Test Set Metrics:')\n",
    "print(f'Mean Absolute Error: {mae_test}')\n",
    "print(f'Mean Squared Error: {mse_test}')\n",
    "print(f'R^2 Score: {r2_test}')\n",
    "print(f'Adjusted R^2 Score: {adjusted_r2_test}')\n"
   ]
  },
  {
   "cell_type": "code",
   "execution_count": null,
   "metadata": {},
   "outputs": [],
   "source": []
  }
 ],
 "metadata": {
  "kernelspec": {
   "display_name": "Python 3",
   "language": "python",
   "name": "python3"
  },
  "language_info": {
   "codemirror_mode": {
    "name": "ipython",
    "version": 3
   },
   "file_extension": ".py",
   "mimetype": "text/x-python",
   "name": "python",
   "nbconvert_exporter": "python",
   "pygments_lexer": "ipython3",
   "version": "3.11.0"
  }
 },
 "nbformat": 4,
 "nbformat_minor": 2
}
